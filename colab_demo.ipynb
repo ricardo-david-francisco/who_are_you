{
  "cells": [
    {
      "cell_type": "markdown",
      "metadata": {},
      "source": [
        "# Emotional Portrait Web Demo  \n",
        "Run the cells below to install dependencies and launch the web app (Flask + ngrok)."
      ]
    },
    {
      "cell_type": "code",
      "metadata": {},
      "execution_count": null,
      "outputs": [],
      "source": [
        "# 🛡️ Enter your ngrok auth token (not saved to disk)\n",
        "import os\n",
        "token = input(\"Enter your ngrok auth token: \")\n",
        "os.environ['NGROK_AUTH_TOKEN'] = token\n"
      ]
    },
    {
      "cell_type": "markdown",
      "metadata": {},
      "source": [
        "## Fetch or update the repository\n",
        "This cell will clone the repo if missing, or pull the latest changes if it already exists."
      ]
    },
    {
      "cell_type": "code",
      "metadata": {},
      "execution_count": null,
      "outputs": [],
      "source": [
        "import os, subprocess\n",
        "repo_dir = 'who_are_you'\n",
        "if os.path.exists(repo_dir):\n",
        "    print('Updating existing repository...')\n",
        "    subprocess.run(['git', '-C', repo_dir, 'pull'], check=True)\n",
        "else:\n",
        "    print('Cloning repository...')\n",
        "    subprocess.run(['git', 'clone', 'https://github.com/ricardo-david-francisco/who_are_you.git'], check=True)\n",
        "os.chdir(repo_dir)\n",
        "print('Current directory:', os.getcwd())\n"
      ]
    },
    {
      "cell_type": "code",
      "metadata": {},
      "execution_count": null,
      "outputs": [],
      "source": [
        "# Install required libraries\n",
        "!pip install flask pyngrok wordcloud transformers --quiet\n"
      ]
    },
    {
      "cell_type": "code",
      "metadata": {},
      "execution_count": null,
      "outputs": [],
      "source": [
        "# Launch the web app (Flask + ngrok)\n",
        "!python webapp.py\n"
      ]
    }
  ],
  "metadata": {
    "kernelspec": {
      "display_name": "Python 3",
      "language": "python",
      "name": "python3"
    },
    "language_info": {
      "name": "python",
      "version": "3.x"
    }
  },
  "nbformat": 4,
  "nbformat_minor": 5
}
