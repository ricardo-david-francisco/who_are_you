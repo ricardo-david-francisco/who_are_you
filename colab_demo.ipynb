{
  "cells": [
    {
      "cell_type": "markdown",
      "metadata": {},
      "source": [
        "# Emotional Portrait Web Demo  ",
        "Run the cells below to install dependencies and launch the web app (Flask + ngrok)."
      ]
    },
    {
      "cell_type": "code",
      "metadata": {},
      "source": [
        "# 🛡️ Enter your ngrok auth token (not saved to disk)
",
        "import os
",
        "token = input(\"Enter your ngrok auth token: \" )
",
        "os.environ['NGROK_AUTH_TOKEN'] = token
"
      ]
    },
    {
      "cell_type": "markdown",
      "metadata": {},
      "source": [
        "## Fetch or update the repository\n",
        "This cell will clone the repo if missing, or pull the latest changes if it already exists."
      ]
    },
    {
      "cell_type": "code",
      "metadata": {},
      "source": [
        "import os, subprocess
",
        "repo_dir = 'who_are_you'
",
        "if os.path.exists(repo_dir):
",
        "    print('Updating existing repository...')
",
        "    subprocess.run(['git', '-C', repo_dir, 'pull'], check=True)
",
        "else:
",
        "    print('Cloning repository...')
",
        "    subprocess.run(['git', 'clone', 'https://github.com/ricardo-david-francisco/who_are_you.git'], check=True)
",
        "os.chdir(repo_dir)
",
        "print('Current directory:', os.getcwd())
"
      ]
    },
    {
      "cell_type": "code",
      "metadata": {},
      "source": [
        "# Install required libraries
",
        "!pip install flask pyngrok wordcloud transformers --quiet
"
      ]
    },
    {
      "cell_type": "code",
      "metadata": {},
      "source": [
        "# Launch the web app (Flask + ngrok)
",
        "!python webapp.py
"
      ]
    }
  ],
  "metadata": {
    "kernelspec": {
      "display_name": "Python 3",
      "language": "python",
      "name": "python3"
    },
    "language_info": {
      "name": "python",
      "version": "3.x"
    }
  },
  "nbformat": 4,
  "nbformat_minor": 5
}
