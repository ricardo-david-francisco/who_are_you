{
 "cells": [
  {
   "cell_type": "markdown",
   "metadata": {},
   "source": [
    "# Emotional Portrait Web Demo\n",
    "Run the cells below to install dependencies and launch a web form. After running the final cell, an ngrok URL will appear. Open it to select your favorite items and view the generated portrait."
   ]
  },
  {
   "cell_type": "code",
   "metadata": {},
   "source": [
    "!pip install flask pyngrok wordcloud transformers --quiet"
   ],
   "execution_count": null,
   "outputs": []
  },
  {
   "cell_type": "code",
   "metadata": {},
   "source": [
    "!python webapp.py"
   ],
   "execution_count": null,
   "outputs": []
  }
 ],
 "metadata": {
  "kernelspec": {
   "display_name": "Python 3",
   "language": "python",
   "name": "python3"
  },
  "language_info": {
   "name": "python",
   "version": "3.x"
  }
 },
 "nbformat": 4,
 "nbformat_minor": 5
}
