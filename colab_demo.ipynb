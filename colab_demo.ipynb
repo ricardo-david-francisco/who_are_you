{
 "cells": [
  {
   "cell_type": "markdown",
   "metadata": {},
   "source": [
    "# Emotional Portrait Web Demo\n",
    "Run the cells below to install dependencies and launch a web form. After running the final cell, a public Gradio link will appear. Open it to select your favorite items and view the generated portrait."
   ]
  },
  {
   "cell_type": "markdown",
   "metadata": {},
   "source": [
    "## Clone the repository\n",
    "Run this if the notebook cannot find `webapp.py`."
   ]
  },
  {
   "cell_type": "code",
   "metadata": {},
   "execution_count": null,
   "outputs": [],
   "source": [
    "!git clone https://github.com/<your-username>/who_are_you.git\n",
    "%cd who_are_you"
   ]
  },
  {
   "cell_type": "code",
   "metadata": {},
   "source": [
    "!pip install gradio wordcloud transformers --quiet"
   ],
   "execution_count": null,
   "outputs": []
  },
  {
   "cell_type": "code",
   "metadata": {},
   "source": [
    "!python webapp.py"
   ],
   "execution_count": null,
   "outputs": []
  }
 ],
 "metadata": {
  "kernelspec": {
   "display_name": "Python 3",
   "language": "python",
   "name": "python3"
  },
  "language_info": {
   "name": "python",
   "version": "3.x"
  }
 },
 "nbformat": 4,
 "nbformat_minor": 5
}
