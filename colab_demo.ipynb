{
  "cells": [
    {
      "cell_type": "markdown",
      "metadata": {
        "id": "4D5BIeOGXsZH"
      },
      "source": [
        "# Emotional Portrait Web Demo\n",
        "Run the cells below to install dependencies and launch a web form. After running the final cell, an ngrok URL will appear. Open it to select your favorite items and view the generated portrait."
      ],
      "id": "4D5BIeOGXsZH"
    },
    {
      "cell_type": "code",
      "metadata": {
        "id": "VJRCrpFXXsZL"
      },
      "source": [
        "!pip install flask pyngrok wordcloud transformers --quiet"
      ],
      "execution_count": 1,
      "outputs": [],
      "id": "VJRCrpFXXsZL"
    },
    {
      "cell_type": "code",
      "metadata": {
        "id": "bUKjxInOXsZN",
        "outputId": "c21c6de8-a2f9-4293-e096-726dc4510ae8",
        "colab": {
          "base_uri": "https://localhost:8080/"
        }
      },
      "source": [
        "!python webapp.py"
      ],
      "execution_count": 2,
      "outputs": [
        {
          "output_type": "stream",
          "name": "stdout",
          "text": [
            "python3: can't open file '/content/webapp.py': [Errno 2] No such file or directory\n"
          ]
        }
      ],
      "id": "bUKjxInOXsZN"
    },
    {
      "cell_type": "code",
      "source": [],
      "metadata": {
        "id": "5Tj7BrdRX2Hn"
      },
      "id": "5Tj7BrdRX2Hn",
      "execution_count": null,
      "outputs": []
    }
  ],
  "metadata": {
    "kernelspec": {
      "display_name": "Python 3",
      "language": "python",
      "name": "python3"
    },
    "language_info": {
      "name": "python",
      "version": "3.x"
    },
    "colab": {
      "provenance": []
    }
  },
  "nbformat": 4,
  "nbformat_minor": 5
}