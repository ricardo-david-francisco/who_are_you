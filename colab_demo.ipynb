{
  "cells": [
    {
      "cell_type": "markdown",
      "metadata": {},
      "source": [
        "# Emotional Portrait Web Demo\n",
        "Run the cells below to install dependencies and launch the web app. "
      ]
    },
    {
      "cell_type": "code",
      "metadata": {},
      "source": [
        "# 🛡️ Enter your ngrok auth token (not saved anywhere else)\n",
        "import os\n",
        "token = input(\"Enter your ngrok auth token: \")\n",
        "os.environ['NGROK_AUTH_TOKEN'] = token"
      ]
    },
    {
      "cell_type": "markdown",
      "metadata": {},
      "source": [
        "## Clone the repository (if not already present)\n",
        "This will fetch `webapp.py` and the `portrait` module."
      ]
    },
    {
      "cell_type": "code",
      "metadata": {},
      "source": [
        "!git clone https://github.com/<your-username>/who_are_you.git || echo 'Already cloned'\n",
        "%cd who_are_you"
      ]
    },
    {
      "cell_type": "code",
      "metadata": {},
      "source": [
        "!pip install flask pyngrok wordcloud transformers --quiet"
      ]
    },
    {
      "cell_type": "code",
      "metadata": {},
      "source": [
        "# Run the web app (Flask + ngrok)\n",
        "!python webapp.py"
      ]
    }
  ],
  "metadata": {
    "kernelspec": { "display_name": "Python 3", "language": "python", "name": "python3" },
    "language_info": { "name": "python", "version": "3.x" }
  },
  "nbformat": 4,
  "nbformat_minor": 5
}
